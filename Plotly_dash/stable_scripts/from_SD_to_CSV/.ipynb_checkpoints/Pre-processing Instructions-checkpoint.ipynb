{
 "cells": [
  {
   "cell_type": "code",
   "execution_count": null,
   "metadata": {},
   "outputs": [],
   "source": []
  },
  {
   "cell_type": "markdown",
   "metadata": {},
   "source": [
    " # Pre-Processing Flow"
   ]
  },
  {
   "cell_type": "markdown",
   "metadata": {},
   "source": [
    "How to run scripts in \"Plotly-Dash\\stable_scripts\\From_SD_to_CSV\"  \n",
    "\n",
    "1.  1_SD_pandas_parse_.py  \n",
    "    - concats \".csv\" files in JSON format from SD cards into one CSV  \n",
    "    -   \n",
    "2. 2_cbas_post_SD_resample.py  \n",
    "    - Filters outliers using \"filterCriteria_0th\"  \n",
    "    - fill NAs  \n",
    "    - Resamples by sample rate  \n",
    "3. 3_extradata.py    \n",
    "    - merges observational notes from Gsheet  \n",
    "    - ffill/bbfil   \n",
    "      \n",
    "4. comfort\\generateComfortMetrics.py  \n",
    "    -  \n"
   ]
  },
  {
   "cell_type": "markdown",
   "metadata": {},
   "source": [
    "##### Notes\n",
    "    Timestamps remain in GMT for all scripts, only converted if plotting\n",
    "    "
   ]
  },
  {
   "cell_type": "markdown",
   "metadata": {},
   "source": [
    "## Usage"
   ]
  },
  {
   "cell_type": "markdown",
   "metadata": {},
   "source": [
    "### 1_SD_pandas_parse_.py\n",
    "Location: stable_scripts\\From_SD_to_CSV\\1_SD_pandas_parse_.py  \n",
    "##### usage\n",
    "Run this in terminal **\"python 1_SD_pandas_parse_.py [Board]**  \n",
    "EX: \"1_SD_pandas_parse_.py protoCBAS-A\"  \n",
    ">    Currently available board names  \n",
    "        protoCBAS-A  \n",
    "        protoCBAS-B  \n",
    "        protoCBAS-C  \n",
    "        protoCBAS-D  \n",
    "        protoCBAS-G  \n",
    "\n",
    "Input dir: (base_path, \"CSV\", \"3Raw\", \"From_SDcard\",board)\n",
    "\n",
    "Output dir: (base_path, \"CSV\", \"2Interim\", \"1_SD_pandas_parse_\")\n",
    "    \n",
    "output columns\n",
    "    "
   ]
  },
  {
   "cell_type": "markdown",
   "metadata": {},
   "source": [
    "### 2_cbas_post_SD_resample.py\n",
    "Location: stable_scripts\\From_SD_to_CSV\\2_cbas_post_SD_resample.py  \n",
    "##### usage\n",
    "Run this in terminal **\"python 2_cbas_post_SD_resample.py [sample rate]** \n",
    "  \n",
    "EX: \"2_cbas_post_SD_resample.py 5T\"  Resample at 5 min Interval\n",
    "  \n",
    "    \n",
    "###### sample rates\n",
    "|Alias\t|Description|\n",
    "|------|------|\n",
    "|B\t|business day frequency|\n",
    "|C\t|custom business day frequency|\n",
    "|D\t|calendar day frequency|\n",
    "|W\t|weekly frequency|\n",
    "|M\t|month end frequency|\n",
    "|SM\t|semi-month end frequency| (15th and end of month)\n",
    "|BM\t|business month end frequency|\n",
    "|CBM\t|custom business month end frequency|\n",
    "|MS\t|month start frequency|\n",
    "|SMS\t|semi-month start frequency| (1st and 15th)\n",
    "|BMS\t|business month start frequency|\n",
    "|CBMS\t|custom business month start frequency|\n",
    "|Q\t|quarter end frequency|\n",
    "|BQ\t|business quarter end frequency|\n",
    "|QS\t|quarter start frequency|\n",
    "|BQS\t|business quarter start frequency|\n",
    "|A, Y\t|year end frequency|\n",
    "|BA, BY\t|business year end frequency|\n",
    "|AS, YS\t|year start frequency|\n",
    "|BAS, BYS\t|business year start frequency|\n",
    "|BH\t|business hour frequency|\n",
    "|H\t|hourly frequency|\n",
    "|T, min\t|minutely frequency|\n",
    "|S\t|secondly frequency|\n",
    "|L, ms\t|milliseconds\n",
    "|U, us\t|microseconds\n",
    "|N\t|nanoseconds|\n",
    "\n",
    "Input dir: (base_path, \"CSV\", \"2Interim\", \"1_SD_pandas_parse_\")  \n",
    "  \n",
    "samprt_path = 'resampled('+samprt+')'  \n",
    "Output dir: (base_path,\"CSV\",\"2Interim\",\"2_cbas_post_SD_resample\",samprt_path)  \n",
    "    "
   ]
  },
  {
   "cell_type": "markdown",
   "metadata": {},
   "source": [
    "### 3_extradata.py\n",
    "Location: stable_scripts\\From_SD_to_CSV\\3_extradata.py\n",
    "##### usage\n",
    "Run this in terminal **\"python 3_extradata.py [sample rate]**  \n",
    "No arguments needed \n",
    "\n",
    "\n",
    "Input dir: (base_path, \"CSV\", \"2Interim\", \"2_cbas_post_SD_resample\",\"resampled(\" + samprt + \")\")\n",
    "\n",
    "Output dir: (base_path, \"CSV\", \"2Interim\", \"3_extradata\")\n",
    "    "
   ]
  },
  {
   "cell_type": "markdown",
   "metadata": {},
   "source": [
    "Data Directory Structure\n",
    "-----------------\n",
    "```\n",
    "`\n",
    "├── CSV  \n",
    "│   ├── 1processed                   <- Final data sets.  \n",
    "          ├── 1234                   <- Folder labled by processes run on data.  \n",
    "│     ├── 2interim                   <- Intermediate data transformed by scrpits.  \n",
    "│         ├── 1_SD_pandas_parse_  \n",
    "│         ├── 2_cbas_post_SD_resample  \n",
    "│         ├── 3_extradata  \n",
    "│         ├── 4_generateComfortMetrics  \n",
    "│   ├── 3raw                         <- SDcard dumps and ingestion script output.   \n",
    "│       ├── From_SDcard  \n",
    "│       ├── ingestions_local         <- from local machines  \n",
    "│       ├── ingestions_rasp          <- from RasperryPi (replaced w VM)  \n",
    "│       ├── ingestions_VM            <- from Gcloud VM  \n",
    " `\n",
    "```"
   ]
  },
  {
   "cell_type": "markdown",
   "metadata": {},
   "source": []
  },
  {
   "cell_type": "code",
   "execution_count": 2,
   "metadata": {},
   "outputs": [
    {
     "name": "stdout",
     "output_type": "stream",
     "text": [
      "Found Paths:\n"
     ]
    },
    {
     "name": "stdout",
     "output_type": "stream",
     "text": [
      "['C:\\\\Users\\\\samgt\\\\Documents\\\\GitHub\\\\Plotly-Dash\\\\CSV\\\\3Raw\\\\From_SDcard\\\\protoCBAS-A\\\\cbas_01-01-2000_.csv', 'C:\\\\Users\\\\samgt\\\\Documents\\\\GitHub\\\\Plotly-Dash\\\\CSV\\\\3Raw\\\\From_SDcard\\\\protoCBAS-A\\\\cbas_01-01-2020_.csv', 'C:\\\\Users\\\\samgt\\\\Documents\\\\GitHub\\\\Plotly-Dash\\\\CSV\\\\3Raw\\\\From_SDcard\\\\protoCBAS-A\\\\cbas_01-02-2020_.csv', 'C:\\\\Users\\\\samgt\\\\Documents\\\\GitHub\\\\Plotly-Dash\\\\CSV\\\\3Raw\\\\From_SDcard\\\\protoCBAS-A\\\\cbas_01-03-2020_.csv', 'C:\\\\Users\\\\samgt\\\\Documents\\\\GitHub\\\\Plotly-Dash\\\\CSV\\\\3Raw\\\\From_SDcard\\\\protoCBAS-A\\\\cbas_01-04-2020_.csv', 'C:\\\\Users\\\\samgt\\\\Documents\\\\GitHub\\\\Plotly-Dash\\\\CSV\\\\3Raw\\\\From_SDcard\\\\protoCBAS-A\\\\cbas_01-05-2020_.csv', 'C:\\\\Users\\\\samgt\\\\Documents\\\\GitHub\\\\Plotly-Dash\\\\CSV\\\\3Raw\\\\From_SDcard\\\\protoCBAS-A\\\\cbas_01-06-2020_.csv', 'C:\\\\Users\\\\samgt\\\\Documents\\\\GitHub\\\\Plotly-Dash\\\\CSV\\\\3Raw\\\\From_SDcard\\\\protoCBAS-A\\\\cbas_01-07-2020_.csv', 'C:\\\\Users\\\\samgt\\\\Documents\\\\GitHub\\\\Plotly-Dash\\\\CSV\\\\3Raw\\\\From_SDcard\\\\protoCBAS-A\\\\cbas_01-08-2020_.csv', 'C:\\\\Users\\\\samgt\\\\Documents\\\\GitHub\\\\Plotly-Dash\\\\CSV\\\\3Raw\\\\From_SDcard\\\\protoCBAS-A\\\\cbas_09-06-2019_.csv', 'C:\\\\Users\\\\samgt\\\\Documents\\\\GitHub\\\\Plotly-Dash\\\\CSV\\\\3Raw\\\\From_SDcard\\\\protoCBAS-A\\\\cbas_09-07-2019_.csv', 'C:\\\\Users\\\\samgt\\\\Documents\\\\GitHub\\\\Plotly-Dash\\\\CSV\\\\3Raw\\\\From_SDcard\\\\protoCBAS-A\\\\cbas_09-09-2019_.csv', 'C:\\\\Users\\\\samgt\\\\Documents\\\\GitHub\\\\Plotly-Dash\\\\CSV\\\\3Raw\\\\From_SDcard\\\\protoCBAS-A\\\\cbas_09-10-2019_.csv', 'C:\\\\Users\\\\samgt\\\\Documents\\\\GitHub\\\\Plotly-Dash\\\\CSV\\\\3Raw\\\\From_SDcard\\\\protoCBAS-A\\\\cbas_09-11-2019_.csv', 'C:\\\\Users\\\\samgt\\\\Documents\\\\GitHub\\\\Plotly-Dash\\\\CSV\\\\3Raw\\\\From_SDcard\\\\protoCBAS-A\\\\cbas_09-12-2019_.csv', 'C:\\\\Users\\\\samgt\\\\Documents\\\\GitHub\\\\Plotly-Dash\\\\CSV\\\\3Raw\\\\From_SDcard\\\\protoCBAS-A\\\\cbas_09-13-2019_.csv', 'C:\\\\Users\\\\samgt\\\\Documents\\\\GitHub\\\\Plotly-Dash\\\\CSV\\\\3Raw\\\\From_SDcard\\\\protoCBAS-A\\\\cbas_09-14-2019_.csv', 'C:\\\\Users\\\\samgt\\\\Documents\\\\GitHub\\\\Plotly-Dash\\\\CSV\\\\3Raw\\\\From_SDcard\\\\protoCBAS-A\\\\cbas_09-15-2019_.csv', 'C:\\\\Users\\\\samgt\\\\Documents\\\\GitHub\\\\Plotly-Dash\\\\CSV\\\\3Raw\\\\From_SDcard\\\\protoCBAS-A\\\\cbas_09-16-2019_.csv', 'C:\\\\Users\\\\samgt\\\\Documents\\\\GitHub\\\\Plotly-Dash\\\\CSV\\\\3Raw\\\\From_SDcard\\\\protoCBAS-A\\\\cbas_09-17-2019_.csv', 'C:\\\\Users\\\\samgt\\\\Documents\\\\GitHub\\\\Plotly-Dash\\\\CSV\\\\3Raw\\\\From_SDcard\\\\protoCBAS-A\\\\cbas_09-18-2019_.csv', 'C:\\\\Users\\\\samgt\\\\Documents\\\\GitHub\\\\Plotly-Dash\\\\CSV\\\\3Raw\\\\From_SDcard\\\\protoCBAS-A\\\\cbas_09-19-2019_.csv', 'C:\\\\Users\\\\samgt\\\\Documents\\\\GitHub\\\\Plotly-Dash\\\\CSV\\\\3Raw\\\\From_SDcard\\\\protoCBAS-A\\\\cbas_09-20-2019_.csv', 'C:\\\\Users\\\\samgt\\\\Documents\\\\GitHub\\\\Plotly-Dash\\\\CSV\\\\3Raw\\\\From_SDcard\\\\protoCBAS-A\\\\cbas_09-21-2019_.csv', 'C:\\\\Users\\\\samgt\\\\Documents\\\\GitHub\\\\Plotly-Dash\\\\CSV\\\\3Raw\\\\From_SDcard\\\\protoCBAS-A\\\\cbas_09-22-2019_.csv', 'C:\\\\Users\\\\samgt\\\\Documents\\\\GitHub\\\\Plotly-Dash\\\\CSV\\\\3Raw\\\\From_SDcard\\\\protoCBAS-A\\\\cbas_09-23-2019_.csv', 'C:\\\\Users\\\\samgt\\\\Documents\\\\GitHub\\\\Plotly-Dash\\\\CSV\\\\3Raw\\\\From_SDcard\\\\protoCBAS-A\\\\cbas_09-24-2019_.csv', 'C:\\\\Users\\\\samgt\\\\Documents\\\\GitHub\\\\Plotly-Dash\\\\CSV\\\\3Raw\\\\From_SDcard\\\\protoCBAS-A\\\\cbas_09-25-2019_.csv', 'C:\\\\Users\\\\samgt\\\\Documents\\\\GitHub\\\\Plotly-Dash\\\\CSV\\\\3Raw\\\\From_SDcard\\\\protoCBAS-A\\\\cbas_09-26-2019_.csv', 'C:\\\\Users\\\\samgt\\\\Documents\\\\GitHub\\\\Plotly-Dash\\\\CSV\\\\3Raw\\\\From_SDcard\\\\protoCBAS-A\\\\cbas_09-27-2019_.csv', 'C:\\\\Users\\\\samgt\\\\Documents\\\\GitHub\\\\Plotly-Dash\\\\CSV\\\\3Raw\\\\From_SDcard\\\\protoCBAS-A\\\\cbas_10-01-2019_.csv', 'C:\\\\Users\\\\samgt\\\\Documents\\\\GitHub\\\\Plotly-Dash\\\\CSV\\\\3Raw\\\\From_SDcard\\\\protoCBAS-A\\\\cbas_10-02-2019_.csv', 'C:\\\\Users\\\\samgt\\\\Documents\\\\GitHub\\\\Plotly-Dash\\\\CSV\\\\3Raw\\\\From_SDcard\\\\protoCBAS-A\\\\cbas_10-03-2019_.csv', 'C:\\\\Users\\\\samgt\\\\Documents\\\\GitHub\\\\Plotly-Dash\\\\CSV\\\\3Raw\\\\From_SDcard\\\\protoCBAS-A\\\\cbas_10-04-2019_.csv', 'C:\\\\Users\\\\samgt\\\\Documents\\\\GitHub\\\\Plotly-Dash\\\\CSV\\\\3Raw\\\\From_SDcard\\\\protoCBAS-A\\\\cbas_10-05-2019_.csv', 'C:\\\\Users\\\\samgt\\\\Documents\\\\GitHub\\\\Plotly-Dash\\\\CSV\\\\3Raw\\\\From_SDcard\\\\protoCBAS-A\\\\cbas_10-06-2019_.csv', 'C:\\\\Users\\\\samgt\\\\Documents\\\\GitHub\\\\Plotly-Dash\\\\CSV\\\\3Raw\\\\From_SDcard\\\\protoCBAS-A\\\\cbas_10-07-2019_.csv', 'C:\\\\Users\\\\samgt\\\\Documents\\\\GitHub\\\\Plotly-Dash\\\\CSV\\\\3Raw\\\\From_SDcard\\\\protoCBAS-A\\\\cbas_11-05-2019_.csv', 'C:\\\\Users\\\\samgt\\\\Documents\\\\GitHub\\\\Plotly-Dash\\\\CSV\\\\3Raw\\\\From_SDcard\\\\protoCBAS-A\\\\cbas_11-06-2019_.csv', 'C:\\\\Users\\\\samgt\\\\Documents\\\\GitHub\\\\Plotly-Dash\\\\CSV\\\\3Raw\\\\From_SDcard\\\\protoCBAS-A\\\\cbas_11-07-2019_.csv', 'C:\\\\Users\\\\samgt\\\\Documents\\\\GitHub\\\\Plotly-Dash\\\\CSV\\\\3Raw\\\\From_SDcard\\\\protoCBAS-A\\\\cbas_11-08-2019_.csv', 'C:\\\\Users\\\\samgt\\\\Documents\\\\GitHub\\\\Plotly-Dash\\\\CSV\\\\3Raw\\\\From_SDcard\\\\protoCBAS-A\\\\cbas_11-09-2019_.csv', 'C:\\\\Users\\\\samgt\\\\Documents\\\\GitHub\\\\Plotly-Dash\\\\CSV\\\\3Raw\\\\From_SDcard\\\\protoCBAS-A\\\\cbas_11-10-2019_.csv', 'C:\\\\Users\\\\samgt\\\\Documents\\\\GitHub\\\\Plotly-Dash\\\\CSV\\\\3Raw\\\\From_SDcard\\\\protoCBAS-A\\\\cbas_11-11-2019_.csv', 'C:\\\\Users\\\\samgt\\\\Documents\\\\GitHub\\\\Plotly-Dash\\\\CSV\\\\3Raw\\\\From_SDcard\\\\protoCBAS-A\\\\cbas_11-12-2019_.csv', 'C:\\\\Users\\\\samgt\\\\Documents\\\\GitHub\\\\Plotly-Dash\\\\CSV\\\\3Raw\\\\From_SDcard\\\\protoCBAS-A\\\\cbas_11-13-2019_.csv', 'C:\\\\Users\\\\samgt\\\\Documents\\\\GitHub\\\\Plotly-Dash\\\\CSV\\\\3Raw\\\\From_SDcard\\\\protoCBAS-A\\\\cbas_11-14-2019_.csv', 'C:\\\\Users\\\\samgt\\\\Documents\\\\GitHub\\\\Plotly-Dash\\\\CSV\\\\3Raw\\\\From_SDcard\\\\protoCBAS-A\\\\cbas_11-15-2019_.csv', 'C:\\\\Users\\\\samgt\\\\Documents\\\\GitHub\\\\Plotly-Dash\\\\CSV\\\\3Raw\\\\From_SDcard\\\\protoCBAS-A\\\\cbas_11-16-2019_.csv', 'C:\\\\Users\\\\samgt\\\\Documents\\\\GitHub\\\\Plotly-Dash\\\\CSV\\\\3Raw\\\\From_SDcard\\\\protoCBAS-A\\\\cbas_11-17-2019_.csv', 'C:\\\\Users\\\\samgt\\\\Documents\\\\GitHub\\\\Plotly-Dash\\\\CSV\\\\3Raw\\\\From_SDcard\\\\protoCBAS-A\\\\cbas_11-18-2019_.csv', 'C:\\\\Users\\\\samgt\\\\Documents\\\\GitHub\\\\Plotly-Dash\\\\CSV\\\\3Raw\\\\From_SDcard\\\\protoCBAS-A\\\\cbas_11-19-2019_.csv', 'C:\\\\Users\\\\samgt\\\\Documents\\\\GitHub\\\\Plotly-Dash\\\\CSV\\\\3Raw\\\\From_SDcard\\\\protoCBAS-A\\\\cbas_11-20-2019_.csv', 'C:\\\\Users\\\\samgt\\\\Documents\\\\GitHub\\\\Plotly-Dash\\\\CSV\\\\3Raw\\\\From_SDcard\\\\protoCBAS-A\\\\cbas_11-21-2019_.csv', 'C:\\\\Users\\\\samgt\\\\Documents\\\\GitHub\\\\Plotly-Dash\\\\CSV\\\\3Raw\\\\From_SDcard\\\\protoCBAS-A\\\\cbas_11-22-2019_.csv', 'C:\\\\Users\\\\samgt\\\\Documents\\\\GitHub\\\\Plotly-Dash\\\\CSV\\\\3Raw\\\\From_SDcard\\\\protoCBAS-A\\\\cbas_11-23-2019_.csv', 'C:\\\\Users\\\\samgt\\\\Documents\\\\GitHub\\\\Plotly-Dash\\\\CSV\\\\3Raw\\\\From_SDcard\\\\protoCBAS-A\\\\cbas_11-24-2019_.csv', 'C:\\\\Users\\\\samgt\\\\Documents\\\\GitHub\\\\Plotly-Dash\\\\CSV\\\\3Raw\\\\From_SDcard\\\\protoCBAS-A\\\\cbas_11-25-2019_.csv', 'C:\\\\Users\\\\samgt\\\\Documents\\\\GitHub\\\\Plotly-Dash\\\\CSV\\\\3Raw\\\\From_SDcard\\\\protoCBAS-A\\\\cbas_11-27-2019_.csv', 'C:\\\\Users\\\\samgt\\\\Documents\\\\GitHub\\\\Plotly-Dash\\\\CSV\\\\3Raw\\\\From_SDcard\\\\protoCBAS-A\\\\cbas_11-28-2019_.csv', 'C:\\\\Users\\\\samgt\\\\Documents\\\\GitHub\\\\Plotly-Dash\\\\CSV\\\\3Raw\\\\From_SDcard\\\\protoCBAS-A\\\\cbas_11-29-2019_.csv', 'C:\\\\Users\\\\samgt\\\\Documents\\\\GitHub\\\\Plotly-Dash\\\\CSV\\\\3Raw\\\\From_SDcard\\\\protoCBAS-A\\\\cbas_11-30-2019_.csv', 'C:\\\\Users\\\\samgt\\\\Documents\\\\GitHub\\\\Plotly-Dash\\\\CSV\\\\3Raw\\\\From_SDcard\\\\protoCBAS-A\\\\cbas_12-01-2019_.csv', 'C:\\\\Users\\\\samgt\\\\Documents\\\\GitHub\\\\Plotly-Dash\\\\CSV\\\\3Raw\\\\From_SDcard\\\\protoCBAS-A\\\\cbas_12-02-2019_.csv', 'C:\\\\Users\\\\samgt\\\\Documents\\\\GitHub\\\\Plotly-Dash\\\\CSV\\\\3Raw\\\\From_SDcard\\\\protoCBAS-A\\\\cbas_12-03-2019_.csv', 'C:\\\\Users\\\\samgt\\\\Documents\\\\GitHub\\\\Plotly-Dash\\\\CSV\\\\3Raw\\\\From_SDcard\\\\protoCBAS-A\\\\cbas_12-04-2019_.csv', 'C:\\\\Users\\\\samgt\\\\Documents\\\\GitHub\\\\Plotly-Dash\\\\CSV\\\\3Raw\\\\From_SDcard\\\\protoCBAS-A\\\\cbas_12-05-2019_.csv', 'C:\\\\Users\\\\samgt\\\\Documents\\\\GitHub\\\\Plotly-Dash\\\\CSV\\\\3Raw\\\\From_SDcard\\\\protoCBAS-A\\\\cbas_12-06-2019_.csv', 'C:\\\\Users\\\\samgt\\\\Documents\\\\GitHub\\\\Plotly-Dash\\\\CSV\\\\3Raw\\\\From_SDcard\\\\protoCBAS-A\\\\cbas_12-07-2019_.csv', 'C:\\\\Users\\\\samgt\\\\Documents\\\\GitHub\\\\Plotly-Dash\\\\CSV\\\\3Raw\\\\From_SDcard\\\\protoCBAS-A\\\\cbas_12-08-2019_.csv', 'C:\\\\Users\\\\samgt\\\\Documents\\\\GitHub\\\\Plotly-Dash\\\\CSV\\\\3Raw\\\\From_SDcard\\\\protoCBAS-A\\\\cbas_12-09-2019_.csv', 'C:\\\\Users\\\\samgt\\\\Documents\\\\GitHub\\\\Plotly-Dash\\\\CSV\\\\3Raw\\\\From_SDcard\\\\protoCBAS-A\\\\cbas_12-10-2019_.csv', 'C:\\\\Users\\\\samgt\\\\Documents\\\\GitHub\\\\Plotly-Dash\\\\CSV\\\\3Raw\\\\From_SDcard\\\\protoCBAS-A\\\\cbas_12-11-2019_.csv', 'C:\\\\Users\\\\samgt\\\\Documents\\\\GitHub\\\\Plotly-Dash\\\\CSV\\\\3Raw\\\\From_SDcard\\\\protoCBAS-A\\\\cbas_12-12-2019_.csv', 'C:\\\\Users\\\\samgt\\\\Documents\\\\GitHub\\\\Plotly-Dash\\\\CSV\\\\3Raw\\\\From_SDcard\\\\protoCBAS-A\\\\cbas_12-13-2019_.csv', 'C:\\\\Users\\\\samgt\\\\Documents\\\\GitHub\\\\Plotly-Dash\\\\CSV\\\\3Raw\\\\From_SDcard\\\\protoCBAS-A\\\\cbas_12-14-2019_.csv', 'C:\\\\Users\\\\samgt\\\\Documents\\\\GitHub\\\\Plotly-Dash\\\\CSV\\\\3Raw\\\\From_SDcard\\\\protoCBAS-A\\\\cbas_12-15-2019_.csv', 'C:\\\\Users\\\\samgt\\\\Documents\\\\GitHub\\\\Plotly-Dash\\\\CSV\\\\3Raw\\\\From_SDcard\\\\protoCBAS-A\\\\cbas_12-16-2019_.csv', 'C:\\\\Users\\\\samgt\\\\Documents\\\\GitHub\\\\Plotly-Dash\\\\CSV\\\\3Raw\\\\From_SDcard\\\\protoCBAS-A\\\\cbas_12-17-2019_.csv', 'C:\\\\Users\\\\samgt\\\\Documents\\\\GitHub\\\\Plotly-Dash\\\\CSV\\\\3Raw\\\\From_SDcard\\\\protoCBAS-A\\\\cbas_12-18-2019_.csv', 'C:\\\\Users\\\\samgt\\\\Documents\\\\GitHub\\\\Plotly-Dash\\\\CSV\\\\3Raw\\\\From_SDcard\\\\protoCBAS-A\\\\cbas_12-19-2019_.csv', 'C:\\\\Users\\\\samgt\\\\Documents\\\\GitHub\\\\Plotly-Dash\\\\CSV\\\\3Raw\\\\From_SDcard\\\\protoCBAS-A\\\\cbas_12-31-2019_.csv']\n"
     ]
    },
    {
     "name": "stdout",
     "output_type": "stream",
     "text": [
      "Done\n"
     ]
    }
   ],
   "source": [
    "%run C:/Users/samgt/Documents/GitHub/Plotly-Dash/stable_scripts/From_SD_to_CSV/1_SD_pandas_parse_.py protoCBAS-A"
   ]
  },
  {
   "cell_type": "code",
   "execution_count": 3,
   "metadata": {},
   "outputs": [
    {
     "name": "stdout",
     "output_type": "stream",
     "text": [
      "Found Paths:\n",
      "['C:\\\\Users\\\\samgt\\\\Documents\\\\GitHub\\\\Plotly-Dash\\\\CSV\\\\3Raw\\\\From_SDcard\\\\protoCBAS-B\\\\cbas_09-06-2019_.csv', 'C:\\\\Users\\\\samgt\\\\Documents\\\\GitHub\\\\Plotly-Dash\\\\CSV\\\\3Raw\\\\From_SDcard\\\\protoCBAS-B\\\\cbas_09-07-2019_.csv', 'C:\\\\Users\\\\samgt\\\\Documents\\\\GitHub\\\\Plotly-Dash\\\\CSV\\\\3Raw\\\\From_SDcard\\\\protoCBAS-B\\\\cbas_09-08-2019_.csv', 'C:\\\\Users\\\\samgt\\\\Documents\\\\GitHub\\\\Plotly-Dash\\\\CSV\\\\3Raw\\\\From_SDcard\\\\protoCBAS-B\\\\cbas_09-09-2019_.csv', 'C:\\\\Users\\\\samgt\\\\Documents\\\\GitHub\\\\Plotly-Dash\\\\CSV\\\\3Raw\\\\From_SDcard\\\\protoCBAS-B\\\\cbas_09-10-2019_.csv', 'C:\\\\Users\\\\samgt\\\\Documents\\\\GitHub\\\\Plotly-Dash\\\\CSV\\\\3Raw\\\\From_SDcard\\\\protoCBAS-B\\\\cbas_09-11-2019_.csv', 'C:\\\\Users\\\\samgt\\\\Documents\\\\GitHub\\\\Plotly-Dash\\\\CSV\\\\3Raw\\\\From_SDcard\\\\protoCBAS-B\\\\cbas_09-12-2019_.csv', 'C:\\\\Users\\\\samgt\\\\Documents\\\\GitHub\\\\Plotly-Dash\\\\CSV\\\\3Raw\\\\From_SDcard\\\\protoCBAS-B\\\\cbas_09-13-2019_.csv', 'C:\\\\Users\\\\samgt\\\\Documents\\\\GitHub\\\\Plotly-Dash\\\\CSV\\\\3Raw\\\\From_SDcard\\\\protoCBAS-B\\\\cbas_09-14-2019_.csv', 'C:\\\\Users\\\\samgt\\\\Documents\\\\GitHub\\\\Plotly-Dash\\\\CSV\\\\3Raw\\\\From_SDcard\\\\protoCBAS-B\\\\cbas_09-15-2019_.csv', 'C:\\\\Users\\\\samgt\\\\Documents\\\\GitHub\\\\Plotly-Dash\\\\CSV\\\\3Raw\\\\From_SDcard\\\\protoCBAS-B\\\\cbas_09-16-2019_.csv', 'C:\\\\Users\\\\samgt\\\\Documents\\\\GitHub\\\\Plotly-Dash\\\\CSV\\\\3Raw\\\\From_SDcard\\\\protoCBAS-B\\\\cbas_09-17-2019_.csv', 'C:\\\\Users\\\\samgt\\\\Documents\\\\GitHub\\\\Plotly-Dash\\\\CSV\\\\3Raw\\\\From_SDcard\\\\protoCBAS-B\\\\cbas_09-18-2019_.csv', 'C:\\\\Users\\\\samgt\\\\Documents\\\\GitHub\\\\Plotly-Dash\\\\CSV\\\\3Raw\\\\From_SDcard\\\\protoCBAS-B\\\\cbas_09-19-2019_.csv', 'C:\\\\Users\\\\samgt\\\\Documents\\\\GitHub\\\\Plotly-Dash\\\\CSV\\\\3Raw\\\\From_SDcard\\\\protoCBAS-B\\\\cbas_09-20-2019_.csv', 'C:\\\\Users\\\\samgt\\\\Documents\\\\GitHub\\\\Plotly-Dash\\\\CSV\\\\3Raw\\\\From_SDcard\\\\protoCBAS-B\\\\cbas_09-21-2019_.csv', 'C:\\\\Users\\\\samgt\\\\Documents\\\\GitHub\\\\Plotly-Dash\\\\CSV\\\\3Raw\\\\From_SDcard\\\\protoCBAS-B\\\\cbas_09-22-2019_.csv', 'C:\\\\Users\\\\samgt\\\\Documents\\\\GitHub\\\\Plotly-Dash\\\\CSV\\\\3Raw\\\\From_SDcard\\\\protoCBAS-B\\\\cbas_09-23-2019_.csv', 'C:\\\\Users\\\\samgt\\\\Documents\\\\GitHub\\\\Plotly-Dash\\\\CSV\\\\3Raw\\\\From_SDcard\\\\protoCBAS-B\\\\cbas_09-24-2019_.csv', 'C:\\\\Users\\\\samgt\\\\Documents\\\\GitHub\\\\Plotly-Dash\\\\CSV\\\\3Raw\\\\From_SDcard\\\\protoCBAS-B\\\\cbas_09-25-2019_.csv', 'C:\\\\Users\\\\samgt\\\\Documents\\\\GitHub\\\\Plotly-Dash\\\\CSV\\\\3Raw\\\\From_SDcard\\\\protoCBAS-B\\\\cbas_09-26-2019_.csv', 'C:\\\\Users\\\\samgt\\\\Documents\\\\GitHub\\\\Plotly-Dash\\\\CSV\\\\3Raw\\\\From_SDcard\\\\protoCBAS-B\\\\cbas_09-27-2019_.csv', 'C:\\\\Users\\\\samgt\\\\Documents\\\\GitHub\\\\Plotly-Dash\\\\CSV\\\\3Raw\\\\From_SDcard\\\\protoCBAS-B\\\\cbas_10-01-2019_.csv', 'C:\\\\Users\\\\samgt\\\\Documents\\\\GitHub\\\\Plotly-Dash\\\\CSV\\\\3Raw\\\\From_SDcard\\\\protoCBAS-B\\\\cbas_10-02-2019_.csv', 'C:\\\\Users\\\\samgt\\\\Documents\\\\GitHub\\\\Plotly-Dash\\\\CSV\\\\3Raw\\\\From_SDcard\\\\protoCBAS-B\\\\cbas_10-03-2019_.csv', 'C:\\\\Users\\\\samgt\\\\Documents\\\\GitHub\\\\Plotly-Dash\\\\CSV\\\\3Raw\\\\From_SDcard\\\\protoCBAS-B\\\\cbas_10-04-2019_.csv', 'C:\\\\Users\\\\samgt\\\\Documents\\\\GitHub\\\\Plotly-Dash\\\\CSV\\\\3Raw\\\\From_SDcard\\\\protoCBAS-B\\\\cbas_10-05-2019_.csv', 'C:\\\\Users\\\\samgt\\\\Documents\\\\GitHub\\\\Plotly-Dash\\\\CSV\\\\3Raw\\\\From_SDcard\\\\protoCBAS-B\\\\cbas_10-06-2019_.csv', 'C:\\\\Users\\\\samgt\\\\Documents\\\\GitHub\\\\Plotly-Dash\\\\CSV\\\\3Raw\\\\From_SDcard\\\\protoCBAS-B\\\\cbas_10-07-2019_.csv', 'C:\\\\Users\\\\samgt\\\\Documents\\\\GitHub\\\\Plotly-Dash\\\\CSV\\\\3Raw\\\\From_SDcard\\\\protoCBAS-B\\\\cbas_11-05-2019_.csv', 'C:\\\\Users\\\\samgt\\\\Documents\\\\GitHub\\\\Plotly-Dash\\\\CSV\\\\3Raw\\\\From_SDcard\\\\protoCBAS-B\\\\cbas_11-06-2019_.csv', 'C:\\\\Users\\\\samgt\\\\Documents\\\\GitHub\\\\Plotly-Dash\\\\CSV\\\\3Raw\\\\From_SDcard\\\\protoCBAS-B\\\\cbas_11-07-2019_.csv', 'C:\\\\Users\\\\samgt\\\\Documents\\\\GitHub\\\\Plotly-Dash\\\\CSV\\\\3Raw\\\\From_SDcard\\\\protoCBAS-B\\\\cbas_11-08-2019_.csv', 'C:\\\\Users\\\\samgt\\\\Documents\\\\GitHub\\\\Plotly-Dash\\\\CSV\\\\3Raw\\\\From_SDcard\\\\protoCBAS-B\\\\cbas_11-09-2019_.csv', 'C:\\\\Users\\\\samgt\\\\Documents\\\\GitHub\\\\Plotly-Dash\\\\CSV\\\\3Raw\\\\From_SDcard\\\\protoCBAS-B\\\\cbas_11-10-2019_.csv', 'C:\\\\Users\\\\samgt\\\\Documents\\\\GitHub\\\\Plotly-Dash\\\\CSV\\\\3Raw\\\\From_SDcard\\\\protoCBAS-B\\\\cbas_11-11-2019_.csv', 'C:\\\\Users\\\\samgt\\\\Documents\\\\GitHub\\\\Plotly-Dash\\\\CSV\\\\3Raw\\\\From_SDcard\\\\protoCBAS-B\\\\cbas_11-12-2019_.csv', 'C:\\\\Users\\\\samgt\\\\Documents\\\\GitHub\\\\Plotly-Dash\\\\CSV\\\\3Raw\\\\From_SDcard\\\\protoCBAS-B\\\\cbas_11-13-2019_.csv', 'C:\\\\Users\\\\samgt\\\\Documents\\\\GitHub\\\\Plotly-Dash\\\\CSV\\\\3Raw\\\\From_SDcard\\\\protoCBAS-B\\\\cbas_11-14-2019_.csv', 'C:\\\\Users\\\\samgt\\\\Documents\\\\GitHub\\\\Plotly-Dash\\\\CSV\\\\3Raw\\\\From_SDcard\\\\protoCBAS-B\\\\cbas_11-15-2019_.csv', 'C:\\\\Users\\\\samgt\\\\Documents\\\\GitHub\\\\Plotly-Dash\\\\CSV\\\\3Raw\\\\From_SDcard\\\\protoCBAS-B\\\\cbas_11-16-2019_.csv', 'C:\\\\Users\\\\samgt\\\\Documents\\\\GitHub\\\\Plotly-Dash\\\\CSV\\\\3Raw\\\\From_SDcard\\\\protoCBAS-B\\\\cbas_11-17-2019_.csv', 'C:\\\\Users\\\\samgt\\\\Documents\\\\GitHub\\\\Plotly-Dash\\\\CSV\\\\3Raw\\\\From_SDcard\\\\protoCBAS-B\\\\cbas_11-18-2019_.csv', 'C:\\\\Users\\\\samgt\\\\Documents\\\\GitHub\\\\Plotly-Dash\\\\CSV\\\\3Raw\\\\From_SDcard\\\\protoCBAS-B\\\\cbas_11-19-2019_.csv', 'C:\\\\Users\\\\samgt\\\\Documents\\\\GitHub\\\\Plotly-Dash\\\\CSV\\\\3Raw\\\\From_SDcard\\\\protoCBAS-B\\\\cbas_11-20-2019_.csv', 'C:\\\\Users\\\\samgt\\\\Documents\\\\GitHub\\\\Plotly-Dash\\\\CSV\\\\3Raw\\\\From_SDcard\\\\protoCBAS-B\\\\cbas_11-21-2019_.csv', 'C:\\\\Users\\\\samgt\\\\Documents\\\\GitHub\\\\Plotly-Dash\\\\CSV\\\\3Raw\\\\From_SDcard\\\\protoCBAS-B\\\\cbas_11-22-2019_.csv', 'C:\\\\Users\\\\samgt\\\\Documents\\\\GitHub\\\\Plotly-Dash\\\\CSV\\\\3Raw\\\\From_SDcard\\\\protoCBAS-B\\\\cbas_11-23-2019_.csv', 'C:\\\\Users\\\\samgt\\\\Documents\\\\GitHub\\\\Plotly-Dash\\\\CSV\\\\3Raw\\\\From_SDcard\\\\protoCBAS-B\\\\cbas_11-24-2019_.csv', 'C:\\\\Users\\\\samgt\\\\Documents\\\\GitHub\\\\Plotly-Dash\\\\CSV\\\\3Raw\\\\From_SDcard\\\\protoCBAS-B\\\\cbas_11-25-2019_.csv', 'C:\\\\Users\\\\samgt\\\\Documents\\\\GitHub\\\\Plotly-Dash\\\\CSV\\\\3Raw\\\\From_SDcard\\\\protoCBAS-B\\\\cbas_11-26-2019_.csv', 'C:\\\\Users\\\\samgt\\\\Documents\\\\GitHub\\\\Plotly-Dash\\\\CSV\\\\3Raw\\\\From_SDcard\\\\protoCBAS-B\\\\cbas_11-27-2019_.csv', 'C:\\\\Users\\\\samgt\\\\Documents\\\\GitHub\\\\Plotly-Dash\\\\CSV\\\\3Raw\\\\From_SDcard\\\\protoCBAS-B\\\\cbas_11-28-2019_.csv', 'C:\\\\Users\\\\samgt\\\\Documents\\\\GitHub\\\\Plotly-Dash\\\\CSV\\\\3Raw\\\\From_SDcard\\\\protoCBAS-B\\\\cbas_11-29-2019_.csv', 'C:\\\\Users\\\\samgt\\\\Documents\\\\GitHub\\\\Plotly-Dash\\\\CSV\\\\3Raw\\\\From_SDcard\\\\protoCBAS-B\\\\cbas_11-30-2019_.csv', 'C:\\\\Users\\\\samgt\\\\Documents\\\\GitHub\\\\Plotly-Dash\\\\CSV\\\\3Raw\\\\From_SDcard\\\\protoCBAS-B\\\\cbas_12-01-2019_.csv', 'C:\\\\Users\\\\samgt\\\\Documents\\\\GitHub\\\\Plotly-Dash\\\\CSV\\\\3Raw\\\\From_SDcard\\\\protoCBAS-B\\\\cbas_12-02-2019_.csv', 'C:\\\\Users\\\\samgt\\\\Documents\\\\GitHub\\\\Plotly-Dash\\\\CSV\\\\3Raw\\\\From_SDcard\\\\protoCBAS-B\\\\cbas_12-03-2019_.csv']\n",
      "Done\n"
     ]
    }
   ],
   "source": [
    "%run C:/Users/samgt/Documents/GitHub/Plotly-Dash/stable_scripts/From_SD_to_CSV/1_SD_pandas_parse_.py protoCBAS-B"
   ]
  },
  {
   "cell_type": "code",
   "execution_count": 4,
   "metadata": {},
   "outputs": [
    {
     "name": "stdout",
     "output_type": "stream",
     "text": [
      "Found Paths:\n"
     ]
    },
    {
     "name": "stdout",
     "output_type": "stream",
     "text": [
      "['C:\\\\Users\\\\samgt\\\\Documents\\\\GitHub\\\\Plotly-Dash\\\\CSV\\\\3Raw\\\\From_SDcard\\\\protoCBAS-C\\\\cbas_01-01-2000_.csv', 'C:\\\\Users\\\\samgt\\\\Documents\\\\GitHub\\\\Plotly-Dash\\\\CSV\\\\3Raw\\\\From_SDcard\\\\protoCBAS-C\\\\cbas_01-01-2020_.csv', 'C:\\\\Users\\\\samgt\\\\Documents\\\\GitHub\\\\Plotly-Dash\\\\CSV\\\\3Raw\\\\From_SDcard\\\\protoCBAS-C\\\\cbas_01-02-2020_.csv', 'C:\\\\Users\\\\samgt\\\\Documents\\\\GitHub\\\\Plotly-Dash\\\\CSV\\\\3Raw\\\\From_SDcard\\\\protoCBAS-C\\\\cbas_01-03-2020_.csv', 'C:\\\\Users\\\\samgt\\\\Documents\\\\GitHub\\\\Plotly-Dash\\\\CSV\\\\3Raw\\\\From_SDcard\\\\protoCBAS-C\\\\cbas_01-04-2020_.csv', 'C:\\\\Users\\\\samgt\\\\Documents\\\\GitHub\\\\Plotly-Dash\\\\CSV\\\\3Raw\\\\From_SDcard\\\\protoCBAS-C\\\\cbas_01-05-2020_.csv', 'C:\\\\Users\\\\samgt\\\\Documents\\\\GitHub\\\\Plotly-Dash\\\\CSV\\\\3Raw\\\\From_SDcard\\\\protoCBAS-C\\\\cbas_01-06-2020_.csv', 'C:\\\\Users\\\\samgt\\\\Documents\\\\GitHub\\\\Plotly-Dash\\\\CSV\\\\3Raw\\\\From_SDcard\\\\protoCBAS-C\\\\cbas_01-07-2020_.csv', 'C:\\\\Users\\\\samgt\\\\Documents\\\\GitHub\\\\Plotly-Dash\\\\CSV\\\\3Raw\\\\From_SDcard\\\\protoCBAS-C\\\\cbas_01-08-2020_.csv', 'C:\\\\Users\\\\samgt\\\\Documents\\\\GitHub\\\\Plotly-Dash\\\\CSV\\\\3Raw\\\\From_SDcard\\\\protoCBAS-C\\\\cbas_09-06-2019_.csv', 'C:\\\\Users\\\\samgt\\\\Documents\\\\GitHub\\\\Plotly-Dash\\\\CSV\\\\3Raw\\\\From_SDcard\\\\protoCBAS-C\\\\cbas_09-07-2019_.csv', 'C:\\\\Users\\\\samgt\\\\Documents\\\\GitHub\\\\Plotly-Dash\\\\CSV\\\\3Raw\\\\From_SDcard\\\\protoCBAS-C\\\\cbas_09-10-2019_.csv', 'C:\\\\Users\\\\samgt\\\\Documents\\\\GitHub\\\\Plotly-Dash\\\\CSV\\\\3Raw\\\\From_SDcard\\\\protoCBAS-C\\\\cbas_09-12-2019_.csv', 'C:\\\\Users\\\\samgt\\\\Documents\\\\GitHub\\\\Plotly-Dash\\\\CSV\\\\3Raw\\\\From_SDcard\\\\protoCBAS-C\\\\cbas_09-13-2019_.csv', 'C:\\\\Users\\\\samgt\\\\Documents\\\\GitHub\\\\Plotly-Dash\\\\CSV\\\\3Raw\\\\From_SDcard\\\\protoCBAS-C\\\\cbas_09-14-2019_.csv', 'C:\\\\Users\\\\samgt\\\\Documents\\\\GitHub\\\\Plotly-Dash\\\\CSV\\\\3Raw\\\\From_SDcard\\\\protoCBAS-C\\\\cbas_09-15-2019_.csv', 'C:\\\\Users\\\\samgt\\\\Documents\\\\GitHub\\\\Plotly-Dash\\\\CSV\\\\3Raw\\\\From_SDcard\\\\protoCBAS-C\\\\cbas_09-16-2019_.csv', 'C:\\\\Users\\\\samgt\\\\Documents\\\\GitHub\\\\Plotly-Dash\\\\CSV\\\\3Raw\\\\From_SDcard\\\\protoCBAS-C\\\\cbas_09-17-2019_.csv', 'C:\\\\Users\\\\samgt\\\\Documents\\\\GitHub\\\\Plotly-Dash\\\\CSV\\\\3Raw\\\\From_SDcard\\\\protoCBAS-C\\\\cbas_09-18-2019_.csv', 'C:\\\\Users\\\\samgt\\\\Documents\\\\GitHub\\\\Plotly-Dash\\\\CSV\\\\3Raw\\\\From_SDcard\\\\protoCBAS-C\\\\cbas_09-19-2019_.csv', 'C:\\\\Users\\\\samgt\\\\Documents\\\\GitHub\\\\Plotly-Dash\\\\CSV\\\\3Raw\\\\From_SDcard\\\\protoCBAS-C\\\\cbas_09-23-2019_.csv', 'C:\\\\Users\\\\samgt\\\\Documents\\\\GitHub\\\\Plotly-Dash\\\\CSV\\\\3Raw\\\\From_SDcard\\\\protoCBAS-C\\\\cbas_09-24-2019_.csv', 'C:\\\\Users\\\\samgt\\\\Documents\\\\GitHub\\\\Plotly-Dash\\\\CSV\\\\3Raw\\\\From_SDcard\\\\protoCBAS-C\\\\cbas_09-25-2019_.csv', 'C:\\\\Users\\\\samgt\\\\Documents\\\\GitHub\\\\Plotly-Dash\\\\CSV\\\\3Raw\\\\From_SDcard\\\\protoCBAS-C\\\\cbas_09-26-2019_.csv', 'C:\\\\Users\\\\samgt\\\\Documents\\\\GitHub\\\\Plotly-Dash\\\\CSV\\\\3Raw\\\\From_SDcard\\\\protoCBAS-C\\\\cbas_09-27-2019_.csv', 'C:\\\\Users\\\\samgt\\\\Documents\\\\GitHub\\\\Plotly-Dash\\\\CSV\\\\3Raw\\\\From_SDcard\\\\protoCBAS-C\\\\cbas_09-28-2019_.csv', 'C:\\\\Users\\\\samgt\\\\Documents\\\\GitHub\\\\Plotly-Dash\\\\CSV\\\\3Raw\\\\From_SDcard\\\\protoCBAS-C\\\\cbas_10-01-2019_.csv', 'C:\\\\Users\\\\samgt\\\\Documents\\\\GitHub\\\\Plotly-Dash\\\\CSV\\\\3Raw\\\\From_SDcard\\\\protoCBAS-C\\\\cbas_10-02-2019_.csv', 'C:\\\\Users\\\\samgt\\\\Documents\\\\GitHub\\\\Plotly-Dash\\\\CSV\\\\3Raw\\\\From_SDcard\\\\protoCBAS-C\\\\cbas_10-03-2019_.csv', 'C:\\\\Users\\\\samgt\\\\Documents\\\\GitHub\\\\Plotly-Dash\\\\CSV\\\\3Raw\\\\From_SDcard\\\\protoCBAS-C\\\\cbas_10-04-2019_.csv', 'C:\\\\Users\\\\samgt\\\\Documents\\\\GitHub\\\\Plotly-Dash\\\\CSV\\\\3Raw\\\\From_SDcard\\\\protoCBAS-C\\\\cbas_10-05-2019_.csv', 'C:\\\\Users\\\\samgt\\\\Documents\\\\GitHub\\\\Plotly-Dash\\\\CSV\\\\3Raw\\\\From_SDcard\\\\protoCBAS-C\\\\cbas_10-06-2019_.csv', 'C:\\\\Users\\\\samgt\\\\Documents\\\\GitHub\\\\Plotly-Dash\\\\CSV\\\\3Raw\\\\From_SDcard\\\\protoCBAS-C\\\\cbas_10-07-2019_.csv', 'C:\\\\Users\\\\samgt\\\\Documents\\\\GitHub\\\\Plotly-Dash\\\\CSV\\\\3Raw\\\\From_SDcard\\\\protoCBAS-C\\\\cbas_11-05-2019_.csv', 'C:\\\\Users\\\\samgt\\\\Documents\\\\GitHub\\\\Plotly-Dash\\\\CSV\\\\3Raw\\\\From_SDcard\\\\protoCBAS-C\\\\cbas_11-06-2019_.csv', 'C:\\\\Users\\\\samgt\\\\Documents\\\\GitHub\\\\Plotly-Dash\\\\CSV\\\\3Raw\\\\From_SDcard\\\\protoCBAS-C\\\\cbas_11-07-2019_.csv', 'C:\\\\Users\\\\samgt\\\\Documents\\\\GitHub\\\\Plotly-Dash\\\\CSV\\\\3Raw\\\\From_SDcard\\\\protoCBAS-C\\\\cbas_11-08-2019_.csv', 'C:\\\\Users\\\\samgt\\\\Documents\\\\GitHub\\\\Plotly-Dash\\\\CSV\\\\3Raw\\\\From_SDcard\\\\protoCBAS-C\\\\cbas_11-09-2019_.csv', 'C:\\\\Users\\\\samgt\\\\Documents\\\\GitHub\\\\Plotly-Dash\\\\CSV\\\\3Raw\\\\From_SDcard\\\\protoCBAS-C\\\\cbas_11-10-2019_.csv', 'C:\\\\Users\\\\samgt\\\\Documents\\\\GitHub\\\\Plotly-Dash\\\\CSV\\\\3Raw\\\\From_SDcard\\\\protoCBAS-C\\\\cbas_11-11-2019_.csv', 'C:\\\\Users\\\\samgt\\\\Documents\\\\GitHub\\\\Plotly-Dash\\\\CSV\\\\3Raw\\\\From_SDcard\\\\protoCBAS-C\\\\cbas_11-14-2019_.csv', 'C:\\\\Users\\\\samgt\\\\Documents\\\\GitHub\\\\Plotly-Dash\\\\CSV\\\\3Raw\\\\From_SDcard\\\\protoCBAS-C\\\\cbas_11-15-2019_.csv', 'C:\\\\Users\\\\samgt\\\\Documents\\\\GitHub\\\\Plotly-Dash\\\\CSV\\\\3Raw\\\\From_SDcard\\\\protoCBAS-C\\\\cbas_11-16-2019_.csv', 'C:\\\\Users\\\\samgt\\\\Documents\\\\GitHub\\\\Plotly-Dash\\\\CSV\\\\3Raw\\\\From_SDcard\\\\protoCBAS-C\\\\cbas_11-17-2019_.csv', 'C:\\\\Users\\\\samgt\\\\Documents\\\\GitHub\\\\Plotly-Dash\\\\CSV\\\\3Raw\\\\From_SDcard\\\\protoCBAS-C\\\\cbas_11-18-2019_.csv', 'C:\\\\Users\\\\samgt\\\\Documents\\\\GitHub\\\\Plotly-Dash\\\\CSV\\\\3Raw\\\\From_SDcard\\\\protoCBAS-C\\\\cbas_11-19-2019_.csv', 'C:\\\\Users\\\\samgt\\\\Documents\\\\GitHub\\\\Plotly-Dash\\\\CSV\\\\3Raw\\\\From_SDcard\\\\protoCBAS-C\\\\cbas_11-20-2019_.csv', 'C:\\\\Users\\\\samgt\\\\Documents\\\\GitHub\\\\Plotly-Dash\\\\CSV\\\\3Raw\\\\From_SDcard\\\\protoCBAS-C\\\\cbas_11-21-2019_.csv', 'C:\\\\Users\\\\samgt\\\\Documents\\\\GitHub\\\\Plotly-Dash\\\\CSV\\\\3Raw\\\\From_SDcard\\\\protoCBAS-C\\\\cbas_11-22-2019_.csv', 'C:\\\\Users\\\\samgt\\\\Documents\\\\GitHub\\\\Plotly-Dash\\\\CSV\\\\3Raw\\\\From_SDcard\\\\protoCBAS-C\\\\cbas_11-23-2019_.csv', 'C:\\\\Users\\\\samgt\\\\Documents\\\\GitHub\\\\Plotly-Dash\\\\CSV\\\\3Raw\\\\From_SDcard\\\\protoCBAS-C\\\\cbas_11-24-2019_.csv', 'C:\\\\Users\\\\samgt\\\\Documents\\\\GitHub\\\\Plotly-Dash\\\\CSV\\\\3Raw\\\\From_SDcard\\\\protoCBAS-C\\\\cbas_11-25-2019_.csv', 'C:\\\\Users\\\\samgt\\\\Documents\\\\GitHub\\\\Plotly-Dash\\\\CSV\\\\3Raw\\\\From_SDcard\\\\protoCBAS-C\\\\cbas_11-26-2019_.csv', 'C:\\\\Users\\\\samgt\\\\Documents\\\\GitHub\\\\Plotly-Dash\\\\CSV\\\\3Raw\\\\From_SDcard\\\\protoCBAS-C\\\\cbas_11-27-2019_.csv', 'C:\\\\Users\\\\samgt\\\\Documents\\\\GitHub\\\\Plotly-Dash\\\\CSV\\\\3Raw\\\\From_SDcard\\\\protoCBAS-C\\\\cbas_11-28-2019_.csv', 'C:\\\\Users\\\\samgt\\\\Documents\\\\GitHub\\\\Plotly-Dash\\\\CSV\\\\3Raw\\\\From_SDcard\\\\protoCBAS-C\\\\cbas_11-29-2019_.csv', 'C:\\\\Users\\\\samgt\\\\Documents\\\\GitHub\\\\Plotly-Dash\\\\CSV\\\\3Raw\\\\From_SDcard\\\\protoCBAS-C\\\\cbas_11-30-2019_.csv', 'C:\\\\Users\\\\samgt\\\\Documents\\\\GitHub\\\\Plotly-Dash\\\\CSV\\\\3Raw\\\\From_SDcard\\\\protoCBAS-C\\\\cbas_12-01-2019_.csv', 'C:\\\\Users\\\\samgt\\\\Documents\\\\GitHub\\\\Plotly-Dash\\\\CSV\\\\3Raw\\\\From_SDcard\\\\protoCBAS-C\\\\cbas_12-02-2019_.csv', 'C:\\\\Users\\\\samgt\\\\Documents\\\\GitHub\\\\Plotly-Dash\\\\CSV\\\\3Raw\\\\From_SDcard\\\\protoCBAS-C\\\\cbas_12-03-2019_.csv', 'C:\\\\Users\\\\samgt\\\\Documents\\\\GitHub\\\\Plotly-Dash\\\\CSV\\\\3Raw\\\\From_SDcard\\\\protoCBAS-C\\\\cbas_12-04-2019_.csv', 'C:\\\\Users\\\\samgt\\\\Documents\\\\GitHub\\\\Plotly-Dash\\\\CSV\\\\3Raw\\\\From_SDcard\\\\protoCBAS-C\\\\cbas_12-05-2019_.csv', 'C:\\\\Users\\\\samgt\\\\Documents\\\\GitHub\\\\Plotly-Dash\\\\CSV\\\\3Raw\\\\From_SDcard\\\\protoCBAS-C\\\\cbas_12-06-2019_.csv', 'C:\\\\Users\\\\samgt\\\\Documents\\\\GitHub\\\\Plotly-Dash\\\\CSV\\\\3Raw\\\\From_SDcard\\\\protoCBAS-C\\\\cbas_12-07-2019_.csv', 'C:\\\\Users\\\\samgt\\\\Documents\\\\GitHub\\\\Plotly-Dash\\\\CSV\\\\3Raw\\\\From_SDcard\\\\protoCBAS-C\\\\cbas_12-08-2019_.csv', 'C:\\\\Users\\\\samgt\\\\Documents\\\\GitHub\\\\Plotly-Dash\\\\CSV\\\\3Raw\\\\From_SDcard\\\\protoCBAS-C\\\\cbas_12-09-2019_.csv', 'C:\\\\Users\\\\samgt\\\\Documents\\\\GitHub\\\\Plotly-Dash\\\\CSV\\\\3Raw\\\\From_SDcard\\\\protoCBAS-C\\\\cbas_12-10-2019_.csv', 'C:\\\\Users\\\\samgt\\\\Documents\\\\GitHub\\\\Plotly-Dash\\\\CSV\\\\3Raw\\\\From_SDcard\\\\protoCBAS-C\\\\cbas_12-11-2019_.csv', 'C:\\\\Users\\\\samgt\\\\Documents\\\\GitHub\\\\Plotly-Dash\\\\CSV\\\\3Raw\\\\From_SDcard\\\\protoCBAS-C\\\\cbas_12-12-2019_.csv', 'C:\\\\Users\\\\samgt\\\\Documents\\\\GitHub\\\\Plotly-Dash\\\\CSV\\\\3Raw\\\\From_SDcard\\\\protoCBAS-C\\\\cbas_12-13-2019_.csv', 'C:\\\\Users\\\\samgt\\\\Documents\\\\GitHub\\\\Plotly-Dash\\\\CSV\\\\3Raw\\\\From_SDcard\\\\protoCBAS-C\\\\cbas_12-14-2019_.csv', 'C:\\\\Users\\\\samgt\\\\Documents\\\\GitHub\\\\Plotly-Dash\\\\CSV\\\\3Raw\\\\From_SDcard\\\\protoCBAS-C\\\\cbas_12-15-2019_.csv', 'C:\\\\Users\\\\samgt\\\\Documents\\\\GitHub\\\\Plotly-Dash\\\\CSV\\\\3Raw\\\\From_SDcard\\\\protoCBAS-C\\\\cbas_12-16-2019_.csv', 'C:\\\\Users\\\\samgt\\\\Documents\\\\GitHub\\\\Plotly-Dash\\\\CSV\\\\3Raw\\\\From_SDcard\\\\protoCBAS-C\\\\cbas_12-17-2019_.csv', 'C:\\\\Users\\\\samgt\\\\Documents\\\\GitHub\\\\Plotly-Dash\\\\CSV\\\\3Raw\\\\From_SDcard\\\\protoCBAS-C\\\\cbas_12-18-2019_.csv', 'C:\\\\Users\\\\samgt\\\\Documents\\\\GitHub\\\\Plotly-Dash\\\\CSV\\\\3Raw\\\\From_SDcard\\\\protoCBAS-C\\\\cbas_12-19-2019_.csv', 'C:\\\\Users\\\\samgt\\\\Documents\\\\GitHub\\\\Plotly-Dash\\\\CSV\\\\3Raw\\\\From_SDcard\\\\protoCBAS-C\\\\cbas_12-20-2019_.csv', 'C:\\\\Users\\\\samgt\\\\Documents\\\\GitHub\\\\Plotly-Dash\\\\CSV\\\\3Raw\\\\From_SDcard\\\\protoCBAS-C\\\\cbas_12-21-2019_.csv', 'C:\\\\Users\\\\samgt\\\\Documents\\\\GitHub\\\\Plotly-Dash\\\\CSV\\\\3Raw\\\\From_SDcard\\\\protoCBAS-C\\\\cbas_12-22-2019_.csv', 'C:\\\\Users\\\\samgt\\\\Documents\\\\GitHub\\\\Plotly-Dash\\\\CSV\\\\3Raw\\\\From_SDcard\\\\protoCBAS-C\\\\cbas_12-23-2019_.csv', 'C:\\\\Users\\\\samgt\\\\Documents\\\\GitHub\\\\Plotly-Dash\\\\CSV\\\\3Raw\\\\From_SDcard\\\\protoCBAS-C\\\\cbas_12-24-2019_.csv', 'C:\\\\Users\\\\samgt\\\\Documents\\\\GitHub\\\\Plotly-Dash\\\\CSV\\\\3Raw\\\\From_SDcard\\\\protoCBAS-C\\\\cbas_12-25-2019_.csv', 'C:\\\\Users\\\\samgt\\\\Documents\\\\GitHub\\\\Plotly-Dash\\\\CSV\\\\3Raw\\\\From_SDcard\\\\protoCBAS-C\\\\cbas_12-26-2019_.csv', 'C:\\\\Users\\\\samgt\\\\Documents\\\\GitHub\\\\Plotly-Dash\\\\CSV\\\\3Raw\\\\From_SDcard\\\\protoCBAS-C\\\\cbas_12-27-2019_.csv', 'C:\\\\Users\\\\samgt\\\\Documents\\\\GitHub\\\\Plotly-Dash\\\\CSV\\\\3Raw\\\\From_SDcard\\\\protoCBAS-C\\\\cbas_12-28-2019_.csv', 'C:\\\\Users\\\\samgt\\\\Documents\\\\GitHub\\\\Plotly-Dash\\\\CSV\\\\3Raw\\\\From_SDcard\\\\protoCBAS-C\\\\cbas_12-29-2019_.csv', 'C:\\\\Users\\\\samgt\\\\Documents\\\\GitHub\\\\Plotly-Dash\\\\CSV\\\\3Raw\\\\From_SDcard\\\\protoCBAS-C\\\\cbas_12-30-2019_.csv', 'C:\\\\Users\\\\samgt\\\\Documents\\\\GitHub\\\\Plotly-Dash\\\\CSV\\\\3Raw\\\\From_SDcard\\\\protoCBAS-C\\\\cbas_12-31-2019_.csv']\n"
     ]
    },
    {
     "name": "stdout",
     "output_type": "stream",
     "text": [
      "Done\n"
     ]
    }
   ],
   "source": [
    "%run C:/Users/samgt/Documents/GitHub/Plotly-Dash/stable_scripts/From_SD_to_CSV/1_SD_pandas_parse_.py protoCBAS-C"
   ]
  },
  {
   "cell_type": "code",
   "execution_count": 5,
   "metadata": {},
   "outputs": [
    {
     "name": "stdout",
     "output_type": "stream",
     "text": [
      "Found Paths:\n",
      "['C:\\\\Users\\\\samgt\\\\Documents\\\\GitHub\\\\Plotly-Dash\\\\CSV\\\\3Raw\\\\From_SDcard\\\\protoCBAS-D\\\\cbas_09-06-2019_.csv', 'C:\\\\Users\\\\samgt\\\\Documents\\\\GitHub\\\\Plotly-Dash\\\\CSV\\\\3Raw\\\\From_SDcard\\\\protoCBAS-D\\\\cbas_09-07-2019_.csv', 'C:\\\\Users\\\\samgt\\\\Documents\\\\GitHub\\\\Plotly-Dash\\\\CSV\\\\3Raw\\\\From_SDcard\\\\protoCBAS-D\\\\cbas_09-09-2019_.csv', 'C:\\\\Users\\\\samgt\\\\Documents\\\\GitHub\\\\Plotly-Dash\\\\CSV\\\\3Raw\\\\From_SDcard\\\\protoCBAS-D\\\\cbas_09-10-2019_.csv', 'C:\\\\Users\\\\samgt\\\\Documents\\\\GitHub\\\\Plotly-Dash\\\\CSV\\\\3Raw\\\\From_SDcard\\\\protoCBAS-D\\\\cbas_09-11-2019_.csv', 'C:\\\\Users\\\\samgt\\\\Documents\\\\GitHub\\\\Plotly-Dash\\\\CSV\\\\3Raw\\\\From_SDcard\\\\protoCBAS-D\\\\cbas_09-12-2019_.csv', 'C:\\\\Users\\\\samgt\\\\Documents\\\\GitHub\\\\Plotly-Dash\\\\CSV\\\\3Raw\\\\From_SDcard\\\\protoCBAS-D\\\\cbas_09-13-2019_.csv', 'C:\\\\Users\\\\samgt\\\\Documents\\\\GitHub\\\\Plotly-Dash\\\\CSV\\\\3Raw\\\\From_SDcard\\\\protoCBAS-D\\\\cbas_09-19-2019_.csv', 'C:\\\\Users\\\\samgt\\\\Documents\\\\GitHub\\\\Plotly-Dash\\\\CSV\\\\3Raw\\\\From_SDcard\\\\protoCBAS-D\\\\cbas_09-20-2019_.csv', 'C:\\\\Users\\\\samgt\\\\Documents\\\\GitHub\\\\Plotly-Dash\\\\CSV\\\\3Raw\\\\From_SDcard\\\\protoCBAS-D\\\\cbas_09-21-2019_.csv', 'C:\\\\Users\\\\samgt\\\\Documents\\\\GitHub\\\\Plotly-Dash\\\\CSV\\\\3Raw\\\\From_SDcard\\\\protoCBAS-D\\\\cbas_09-22-2019_.csv', 'C:\\\\Users\\\\samgt\\\\Documents\\\\GitHub\\\\Plotly-Dash\\\\CSV\\\\3Raw\\\\From_SDcard\\\\protoCBAS-D\\\\cbas_09-23-2019_.csv', 'C:\\\\Users\\\\samgt\\\\Documents\\\\GitHub\\\\Plotly-Dash\\\\CSV\\\\3Raw\\\\From_SDcard\\\\protoCBAS-D\\\\cbas_09-24-2019_.csv', 'C:\\\\Users\\\\samgt\\\\Documents\\\\GitHub\\\\Plotly-Dash\\\\CSV\\\\3Raw\\\\From_SDcard\\\\protoCBAS-D\\\\cbas_09-25-2019_.csv', 'C:\\\\Users\\\\samgt\\\\Documents\\\\GitHub\\\\Plotly-Dash\\\\CSV\\\\3Raw\\\\From_SDcard\\\\protoCBAS-D\\\\cbas_09-26-2019_.csv', 'C:\\\\Users\\\\samgt\\\\Documents\\\\GitHub\\\\Plotly-Dash\\\\CSV\\\\3Raw\\\\From_SDcard\\\\protoCBAS-D\\\\cbas_09-27-2019_.csv', 'C:\\\\Users\\\\samgt\\\\Documents\\\\GitHub\\\\Plotly-Dash\\\\CSV\\\\3Raw\\\\From_SDcard\\\\protoCBAS-D\\\\cbas_09-28-2019_.csv', 'C:\\\\Users\\\\samgt\\\\Documents\\\\GitHub\\\\Plotly-Dash\\\\CSV\\\\3Raw\\\\From_SDcard\\\\protoCBAS-D\\\\cbas_09-29-2019_.csv', 'C:\\\\Users\\\\samgt\\\\Documents\\\\GitHub\\\\Plotly-Dash\\\\CSV\\\\3Raw\\\\From_SDcard\\\\protoCBAS-D\\\\cbas_09-30-2019_.csv', 'C:\\\\Users\\\\samgt\\\\Documents\\\\GitHub\\\\Plotly-Dash\\\\CSV\\\\3Raw\\\\From_SDcard\\\\protoCBAS-D\\\\cbas_10-01-2019_.csv', 'C:\\\\Users\\\\samgt\\\\Documents\\\\GitHub\\\\Plotly-Dash\\\\CSV\\\\3Raw\\\\From_SDcard\\\\protoCBAS-D\\\\cbas_10-02-2019_.csv', 'C:\\\\Users\\\\samgt\\\\Documents\\\\GitHub\\\\Plotly-Dash\\\\CSV\\\\3Raw\\\\From_SDcard\\\\protoCBAS-D\\\\cbas_10-03-2019_.csv', 'C:\\\\Users\\\\samgt\\\\Documents\\\\GitHub\\\\Plotly-Dash\\\\CSV\\\\3Raw\\\\From_SDcard\\\\protoCBAS-D\\\\cbas_10-04-2019_.csv', 'C:\\\\Users\\\\samgt\\\\Documents\\\\GitHub\\\\Plotly-Dash\\\\CSV\\\\3Raw\\\\From_SDcard\\\\protoCBAS-D\\\\cbas_10-05-2019_.csv', 'C:\\\\Users\\\\samgt\\\\Documents\\\\GitHub\\\\Plotly-Dash\\\\CSV\\\\3Raw\\\\From_SDcard\\\\protoCBAS-D\\\\cbas_10-06-2019_.csv', 'C:\\\\Users\\\\samgt\\\\Documents\\\\GitHub\\\\Plotly-Dash\\\\CSV\\\\3Raw\\\\From_SDcard\\\\protoCBAS-D\\\\cbas_10-07-2019_.csv', 'C:\\\\Users\\\\samgt\\\\Documents\\\\GitHub\\\\Plotly-Dash\\\\CSV\\\\3Raw\\\\From_SDcard\\\\protoCBAS-D\\\\cbas_11-05-2019_.csv', 'C:\\\\Users\\\\samgt\\\\Documents\\\\GitHub\\\\Plotly-Dash\\\\CSV\\\\3Raw\\\\From_SDcard\\\\protoCBAS-D\\\\cbas_11-06-2019_.csv', 'C:\\\\Users\\\\samgt\\\\Documents\\\\GitHub\\\\Plotly-Dash\\\\CSV\\\\3Raw\\\\From_SDcard\\\\protoCBAS-D\\\\cbas_11-07-2019_.csv', 'C:\\\\Users\\\\samgt\\\\Documents\\\\GitHub\\\\Plotly-Dash\\\\CSV\\\\3Raw\\\\From_SDcard\\\\protoCBAS-D\\\\cbas_11-08-2019_.csv', 'C:\\\\Users\\\\samgt\\\\Documents\\\\GitHub\\\\Plotly-Dash\\\\CSV\\\\3Raw\\\\From_SDcard\\\\protoCBAS-D\\\\cbas_11-09-2019_.csv', 'C:\\\\Users\\\\samgt\\\\Documents\\\\GitHub\\\\Plotly-Dash\\\\CSV\\\\3Raw\\\\From_SDcard\\\\protoCBAS-D\\\\cbas_11-11-2019_.csv', 'C:\\\\Users\\\\samgt\\\\Documents\\\\GitHub\\\\Plotly-Dash\\\\CSV\\\\3Raw\\\\From_SDcard\\\\protoCBAS-D\\\\cbas_11-12-2019_.csv', 'C:\\\\Users\\\\samgt\\\\Documents\\\\GitHub\\\\Plotly-Dash\\\\CSV\\\\3Raw\\\\From_SDcard\\\\protoCBAS-D\\\\cbas_11-13-2019_.csv', 'C:\\\\Users\\\\samgt\\\\Documents\\\\GitHub\\\\Plotly-Dash\\\\CSV\\\\3Raw\\\\From_SDcard\\\\protoCBAS-D\\\\cbas_11-14-2019_.csv', 'C:\\\\Users\\\\samgt\\\\Documents\\\\GitHub\\\\Plotly-Dash\\\\CSV\\\\3Raw\\\\From_SDcard\\\\protoCBAS-D\\\\cbas_11-15-2019_.csv', 'C:\\\\Users\\\\samgt\\\\Documents\\\\GitHub\\\\Plotly-Dash\\\\CSV\\\\3Raw\\\\From_SDcard\\\\protoCBAS-D\\\\cbas_11-16-2019_.csv', 'C:\\\\Users\\\\samgt\\\\Documents\\\\GitHub\\\\Plotly-Dash\\\\CSV\\\\3Raw\\\\From_SDcard\\\\protoCBAS-D\\\\cbas_11-17-2019_.csv', 'C:\\\\Users\\\\samgt\\\\Documents\\\\GitHub\\\\Plotly-Dash\\\\CSV\\\\3Raw\\\\From_SDcard\\\\protoCBAS-D\\\\cbas_11-18-2019_.csv', 'C:\\\\Users\\\\samgt\\\\Documents\\\\GitHub\\\\Plotly-Dash\\\\CSV\\\\3Raw\\\\From_SDcard\\\\protoCBAS-D\\\\cbas_11-19-2019_.csv', 'C:\\\\Users\\\\samgt\\\\Documents\\\\GitHub\\\\Plotly-Dash\\\\CSV\\\\3Raw\\\\From_SDcard\\\\protoCBAS-D\\\\cbas_11-20-2019_.csv', 'C:\\\\Users\\\\samgt\\\\Documents\\\\GitHub\\\\Plotly-Dash\\\\CSV\\\\3Raw\\\\From_SDcard\\\\protoCBAS-D\\\\cbas_11-21-2019_.csv', 'C:\\\\Users\\\\samgt\\\\Documents\\\\GitHub\\\\Plotly-Dash\\\\CSV\\\\3Raw\\\\From_SDcard\\\\protoCBAS-D\\\\cbas_11-22-2019_.csv', 'C:\\\\Users\\\\samgt\\\\Documents\\\\GitHub\\\\Plotly-Dash\\\\CSV\\\\3Raw\\\\From_SDcard\\\\protoCBAS-D\\\\cbas_11-23-2019_.csv', 'C:\\\\Users\\\\samgt\\\\Documents\\\\GitHub\\\\Plotly-Dash\\\\CSV\\\\3Raw\\\\From_SDcard\\\\protoCBAS-D\\\\cbas_11-24-2019_.csv', 'C:\\\\Users\\\\samgt\\\\Documents\\\\GitHub\\\\Plotly-Dash\\\\CSV\\\\3Raw\\\\From_SDcard\\\\protoCBAS-D\\\\cbas_11-25-2019_.csv', 'C:\\\\Users\\\\samgt\\\\Documents\\\\GitHub\\\\Plotly-Dash\\\\CSV\\\\3Raw\\\\From_SDcard\\\\protoCBAS-D\\\\cbas_11-26-2019_.csv', 'C:\\\\Users\\\\samgt\\\\Documents\\\\GitHub\\\\Plotly-Dash\\\\CSV\\\\3Raw\\\\From_SDcard\\\\protoCBAS-D\\\\cbas_11-27-2019_.csv']\n",
      "Done\n"
     ]
    }
   ],
   "source": [
    "%run C:/Users/samgt/Documents/GitHub/Plotly-Dash/stable_scripts/From_SD_to_CSV/1_SD_pandas_parse_.py protoCBAS-D"
   ]
  },
  {
   "cell_type": "code",
   "execution_count": 8,
   "metadata": {},
   "outputs": [
    {
     "name": "stdout",
     "output_type": "stream",
     "text": [
      "Found Paths:\n"
     ]
    },
    {
     "name": "stdout",
     "output_type": "stream",
     "text": [
      "['C:\\\\Users\\\\samgt\\\\Documents\\\\GitHub\\\\Plotly-Dash\\\\CSV\\\\3Raw\\\\From_SDcard\\\\protoCBAS-G\\\\cbas_01-01-2000_.csv', 'C:\\\\Users\\\\samgt\\\\Documents\\\\GitHub\\\\Plotly-Dash\\\\CSV\\\\3Raw\\\\From_SDcard\\\\protoCBAS-G\\\\cbas_01-01-2020_.csv', 'C:\\\\Users\\\\samgt\\\\Documents\\\\GitHub\\\\Plotly-Dash\\\\CSV\\\\3Raw\\\\From_SDcard\\\\protoCBAS-G\\\\cbas_01-02-2020_.csv', 'C:\\\\Users\\\\samgt\\\\Documents\\\\GitHub\\\\Plotly-Dash\\\\CSV\\\\3Raw\\\\From_SDcard\\\\protoCBAS-G\\\\cbas_01-03-2020_.csv', 'C:\\\\Users\\\\samgt\\\\Documents\\\\GitHub\\\\Plotly-Dash\\\\CSV\\\\3Raw\\\\From_SDcard\\\\protoCBAS-G\\\\cbas_01-04-2020_.csv', 'C:\\\\Users\\\\samgt\\\\Documents\\\\GitHub\\\\Plotly-Dash\\\\CSV\\\\3Raw\\\\From_SDcard\\\\protoCBAS-G\\\\cbas_01-05-2020_.csv', 'C:\\\\Users\\\\samgt\\\\Documents\\\\GitHub\\\\Plotly-Dash\\\\CSV\\\\3Raw\\\\From_SDcard\\\\protoCBAS-G\\\\cbas_01-06-2020_.csv', 'C:\\\\Users\\\\samgt\\\\Documents\\\\GitHub\\\\Plotly-Dash\\\\CSV\\\\3Raw\\\\From_SDcard\\\\protoCBAS-G\\\\cbas_01-07-2020_.csv', 'C:\\\\Users\\\\samgt\\\\Documents\\\\GitHub\\\\Plotly-Dash\\\\CSV\\\\3Raw\\\\From_SDcard\\\\protoCBAS-G\\\\cbas_01-08-2020_.csv', 'C:\\\\Users\\\\samgt\\\\Documents\\\\GitHub\\\\Plotly-Dash\\\\CSV\\\\3Raw\\\\From_SDcard\\\\protoCBAS-G\\\\cbas_09-07-2019_.csv', 'C:\\\\Users\\\\samgt\\\\Documents\\\\GitHub\\\\Plotly-Dash\\\\CSV\\\\3Raw\\\\From_SDcard\\\\protoCBAS-G\\\\cbas_09-08-2019_.csv', 'C:\\\\Users\\\\samgt\\\\Documents\\\\GitHub\\\\Plotly-Dash\\\\CSV\\\\3Raw\\\\From_SDcard\\\\protoCBAS-G\\\\cbas_09-09-2019_.csv', 'C:\\\\Users\\\\samgt\\\\Documents\\\\GitHub\\\\Plotly-Dash\\\\CSV\\\\3Raw\\\\From_SDcard\\\\protoCBAS-G\\\\cbas_09-10-2019_.csv', 'C:\\\\Users\\\\samgt\\\\Documents\\\\GitHub\\\\Plotly-Dash\\\\CSV\\\\3Raw\\\\From_SDcard\\\\protoCBAS-G\\\\cbas_09-11-2019_.csv', 'C:\\\\Users\\\\samgt\\\\Documents\\\\GitHub\\\\Plotly-Dash\\\\CSV\\\\3Raw\\\\From_SDcard\\\\protoCBAS-G\\\\cbas_09-12-2019_.csv', 'C:\\\\Users\\\\samgt\\\\Documents\\\\GitHub\\\\Plotly-Dash\\\\CSV\\\\3Raw\\\\From_SDcard\\\\protoCBAS-G\\\\cbas_09-13-2019_.csv', 'C:\\\\Users\\\\samgt\\\\Documents\\\\GitHub\\\\Plotly-Dash\\\\CSV\\\\3Raw\\\\From_SDcard\\\\protoCBAS-G\\\\cbas_09-14-2019_.csv', 'C:\\\\Users\\\\samgt\\\\Documents\\\\GitHub\\\\Plotly-Dash\\\\CSV\\\\3Raw\\\\From_SDcard\\\\protoCBAS-G\\\\cbas_09-15-2019_.csv', 'C:\\\\Users\\\\samgt\\\\Documents\\\\GitHub\\\\Plotly-Dash\\\\CSV\\\\3Raw\\\\From_SDcard\\\\protoCBAS-G\\\\cbas_09-17-2019_.csv', 'C:\\\\Users\\\\samgt\\\\Documents\\\\GitHub\\\\Plotly-Dash\\\\CSV\\\\3Raw\\\\From_SDcard\\\\protoCBAS-G\\\\cbas_09-18-2019_.csv', 'C:\\\\Users\\\\samgt\\\\Documents\\\\GitHub\\\\Plotly-Dash\\\\CSV\\\\3Raw\\\\From_SDcard\\\\protoCBAS-G\\\\cbas_09-19-2019_.csv', 'C:\\\\Users\\\\samgt\\\\Documents\\\\GitHub\\\\Plotly-Dash\\\\CSV\\\\3Raw\\\\From_SDcard\\\\protoCBAS-G\\\\cbas_09-20-2019_.csv', 'C:\\\\Users\\\\samgt\\\\Documents\\\\GitHub\\\\Plotly-Dash\\\\CSV\\\\3Raw\\\\From_SDcard\\\\protoCBAS-G\\\\cbas_09-21-2019_.csv', 'C:\\\\Users\\\\samgt\\\\Documents\\\\GitHub\\\\Plotly-Dash\\\\CSV\\\\3Raw\\\\From_SDcard\\\\protoCBAS-G\\\\cbas_09-22-2019_.csv', 'C:\\\\Users\\\\samgt\\\\Documents\\\\GitHub\\\\Plotly-Dash\\\\CSV\\\\3Raw\\\\From_SDcard\\\\protoCBAS-G\\\\cbas_09-23-2019_.csv', 'C:\\\\Users\\\\samgt\\\\Documents\\\\GitHub\\\\Plotly-Dash\\\\CSV\\\\3Raw\\\\From_SDcard\\\\protoCBAS-G\\\\cbas_09-24-2019_.csv', 'C:\\\\Users\\\\samgt\\\\Documents\\\\GitHub\\\\Plotly-Dash\\\\CSV\\\\3Raw\\\\From_SDcard\\\\protoCBAS-G\\\\cbas_09-25-2019_.csv', 'C:\\\\Users\\\\samgt\\\\Documents\\\\GitHub\\\\Plotly-Dash\\\\CSV\\\\3Raw\\\\From_SDcard\\\\protoCBAS-G\\\\cbas_09-26-2019_.csv', 'C:\\\\Users\\\\samgt\\\\Documents\\\\GitHub\\\\Plotly-Dash\\\\CSV\\\\3Raw\\\\From_SDcard\\\\protoCBAS-G\\\\cbas_09-27-2019_.csv', 'C:\\\\Users\\\\samgt\\\\Documents\\\\GitHub\\\\Plotly-Dash\\\\CSV\\\\3Raw\\\\From_SDcard\\\\protoCBAS-G\\\\cbas_10-01-2019_.csv', 'C:\\\\Users\\\\samgt\\\\Documents\\\\GitHub\\\\Plotly-Dash\\\\CSV\\\\3Raw\\\\From_SDcard\\\\protoCBAS-G\\\\cbas_11-05-2019_.csv', 'C:\\\\Users\\\\samgt\\\\Documents\\\\GitHub\\\\Plotly-Dash\\\\CSV\\\\3Raw\\\\From_SDcard\\\\protoCBAS-G\\\\cbas_11-06-2019_.csv', 'C:\\\\Users\\\\samgt\\\\Documents\\\\GitHub\\\\Plotly-Dash\\\\CSV\\\\3Raw\\\\From_SDcard\\\\protoCBAS-G\\\\cbas_11-07-2019_.csv', 'C:\\\\Users\\\\samgt\\\\Documents\\\\GitHub\\\\Plotly-Dash\\\\CSV\\\\3Raw\\\\From_SDcard\\\\protoCBAS-G\\\\cbas_11-08-2019_.csv', 'C:\\\\Users\\\\samgt\\\\Documents\\\\GitHub\\\\Plotly-Dash\\\\CSV\\\\3Raw\\\\From_SDcard\\\\protoCBAS-G\\\\cbas_11-09-2019_.csv', 'C:\\\\Users\\\\samgt\\\\Documents\\\\GitHub\\\\Plotly-Dash\\\\CSV\\\\3Raw\\\\From_SDcard\\\\protoCBAS-G\\\\cbas_11-10-2019_.csv', 'C:\\\\Users\\\\samgt\\\\Documents\\\\GitHub\\\\Plotly-Dash\\\\CSV\\\\3Raw\\\\From_SDcard\\\\protoCBAS-G\\\\cbas_11-11-2019_.csv', 'C:\\\\Users\\\\samgt\\\\Documents\\\\GitHub\\\\Plotly-Dash\\\\CSV\\\\3Raw\\\\From_SDcard\\\\protoCBAS-G\\\\cbas_11-12-2019_.csv', 'C:\\\\Users\\\\samgt\\\\Documents\\\\GitHub\\\\Plotly-Dash\\\\CSV\\\\3Raw\\\\From_SDcard\\\\protoCBAS-G\\\\cbas_11-13-2019_.csv', 'C:\\\\Users\\\\samgt\\\\Documents\\\\GitHub\\\\Plotly-Dash\\\\CSV\\\\3Raw\\\\From_SDcard\\\\protoCBAS-G\\\\cbas_11-14-2019_.csv', 'C:\\\\Users\\\\samgt\\\\Documents\\\\GitHub\\\\Plotly-Dash\\\\CSV\\\\3Raw\\\\From_SDcard\\\\protoCBAS-G\\\\cbas_11-15-2019_.csv', 'C:\\\\Users\\\\samgt\\\\Documents\\\\GitHub\\\\Plotly-Dash\\\\CSV\\\\3Raw\\\\From_SDcard\\\\protoCBAS-G\\\\cbas_11-16-2019_.csv', 'C:\\\\Users\\\\samgt\\\\Documents\\\\GitHub\\\\Plotly-Dash\\\\CSV\\\\3Raw\\\\From_SDcard\\\\protoCBAS-G\\\\cbas_11-17-2019_.csv', 'C:\\\\Users\\\\samgt\\\\Documents\\\\GitHub\\\\Plotly-Dash\\\\CSV\\\\3Raw\\\\From_SDcard\\\\protoCBAS-G\\\\cbas_11-18-2019_.csv', 'C:\\\\Users\\\\samgt\\\\Documents\\\\GitHub\\\\Plotly-Dash\\\\CSV\\\\3Raw\\\\From_SDcard\\\\protoCBAS-G\\\\cbas_11-19-2019_.csv', 'C:\\\\Users\\\\samgt\\\\Documents\\\\GitHub\\\\Plotly-Dash\\\\CSV\\\\3Raw\\\\From_SDcard\\\\protoCBAS-G\\\\cbas_11-20-2019_.csv', 'C:\\\\Users\\\\samgt\\\\Documents\\\\GitHub\\\\Plotly-Dash\\\\CSV\\\\3Raw\\\\From_SDcard\\\\protoCBAS-G\\\\cbas_11-21-2019_.csv', 'C:\\\\Users\\\\samgt\\\\Documents\\\\GitHub\\\\Plotly-Dash\\\\CSV\\\\3Raw\\\\From_SDcard\\\\protoCBAS-G\\\\cbas_11-22-2019_.csv', 'C:\\\\Users\\\\samgt\\\\Documents\\\\GitHub\\\\Plotly-Dash\\\\CSV\\\\3Raw\\\\From_SDcard\\\\protoCBAS-G\\\\cbas_11-23-2019_.csv', 'C:\\\\Users\\\\samgt\\\\Documents\\\\GitHub\\\\Plotly-Dash\\\\CSV\\\\3Raw\\\\From_SDcard\\\\protoCBAS-G\\\\cbas_11-24-2019_.csv', 'C:\\\\Users\\\\samgt\\\\Documents\\\\GitHub\\\\Plotly-Dash\\\\CSV\\\\3Raw\\\\From_SDcard\\\\protoCBAS-G\\\\cbas_11-25-2019_.csv', 'C:\\\\Users\\\\samgt\\\\Documents\\\\GitHub\\\\Plotly-Dash\\\\CSV\\\\3Raw\\\\From_SDcard\\\\protoCBAS-G\\\\cbas_11-26-2019_.csv', 'C:\\\\Users\\\\samgt\\\\Documents\\\\GitHub\\\\Plotly-Dash\\\\CSV\\\\3Raw\\\\From_SDcard\\\\protoCBAS-G\\\\cbas_11-27-2019_.csv', 'C:\\\\Users\\\\samgt\\\\Documents\\\\GitHub\\\\Plotly-Dash\\\\CSV\\\\3Raw\\\\From_SDcard\\\\protoCBAS-G\\\\cbas_11-28-2019_.csv', 'C:\\\\Users\\\\samgt\\\\Documents\\\\GitHub\\\\Plotly-Dash\\\\CSV\\\\3Raw\\\\From_SDcard\\\\protoCBAS-G\\\\cbas_11-29-2019_.csv', 'C:\\\\Users\\\\samgt\\\\Documents\\\\GitHub\\\\Plotly-Dash\\\\CSV\\\\3Raw\\\\From_SDcard\\\\protoCBAS-G\\\\cbas_11-30-2019_.csv', 'C:\\\\Users\\\\samgt\\\\Documents\\\\GitHub\\\\Plotly-Dash\\\\CSV\\\\3Raw\\\\From_SDcard\\\\protoCBAS-G\\\\cbas_12-01-2019_.csv', 'C:\\\\Users\\\\samgt\\\\Documents\\\\GitHub\\\\Plotly-Dash\\\\CSV\\\\3Raw\\\\From_SDcard\\\\protoCBAS-G\\\\cbas_12-02-2019_.csv', 'C:\\\\Users\\\\samgt\\\\Documents\\\\GitHub\\\\Plotly-Dash\\\\CSV\\\\3Raw\\\\From_SDcard\\\\protoCBAS-G\\\\cbas_12-03-2019_.csv', 'C:\\\\Users\\\\samgt\\\\Documents\\\\GitHub\\\\Plotly-Dash\\\\CSV\\\\3Raw\\\\From_SDcard\\\\protoCBAS-G\\\\cbas_12-04-2019_.csv', 'C:\\\\Users\\\\samgt\\\\Documents\\\\GitHub\\\\Plotly-Dash\\\\CSV\\\\3Raw\\\\From_SDcard\\\\protoCBAS-G\\\\cbas_12-05-2019_.csv', 'C:\\\\Users\\\\samgt\\\\Documents\\\\GitHub\\\\Plotly-Dash\\\\CSV\\\\3Raw\\\\From_SDcard\\\\protoCBAS-G\\\\cbas_12-06-2019_.csv', 'C:\\\\Users\\\\samgt\\\\Documents\\\\GitHub\\\\Plotly-Dash\\\\CSV\\\\3Raw\\\\From_SDcard\\\\protoCBAS-G\\\\cbas_12-07-2019_.csv', 'C:\\\\Users\\\\samgt\\\\Documents\\\\GitHub\\\\Plotly-Dash\\\\CSV\\\\3Raw\\\\From_SDcard\\\\protoCBAS-G\\\\cbas_12-08-2019_.csv', 'C:\\\\Users\\\\samgt\\\\Documents\\\\GitHub\\\\Plotly-Dash\\\\CSV\\\\3Raw\\\\From_SDcard\\\\protoCBAS-G\\\\cbas_12-09-2019_.csv', 'C:\\\\Users\\\\samgt\\\\Documents\\\\GitHub\\\\Plotly-Dash\\\\CSV\\\\3Raw\\\\From_SDcard\\\\protoCBAS-G\\\\cbas_12-10-2019_.csv', 'C:\\\\Users\\\\samgt\\\\Documents\\\\GitHub\\\\Plotly-Dash\\\\CSV\\\\3Raw\\\\From_SDcard\\\\protoCBAS-G\\\\cbas_12-11-2019_.csv', 'C:\\\\Users\\\\samgt\\\\Documents\\\\GitHub\\\\Plotly-Dash\\\\CSV\\\\3Raw\\\\From_SDcard\\\\protoCBAS-G\\\\cbas_12-12-2019_.csv', 'C:\\\\Users\\\\samgt\\\\Documents\\\\GitHub\\\\Plotly-Dash\\\\CSV\\\\3Raw\\\\From_SDcard\\\\protoCBAS-G\\\\cbas_12-13-2019_.csv', 'C:\\\\Users\\\\samgt\\\\Documents\\\\GitHub\\\\Plotly-Dash\\\\CSV\\\\3Raw\\\\From_SDcard\\\\protoCBAS-G\\\\cbas_12-14-2019_.csv', 'C:\\\\Users\\\\samgt\\\\Documents\\\\GitHub\\\\Plotly-Dash\\\\CSV\\\\3Raw\\\\From_SDcard\\\\protoCBAS-G\\\\cbas_12-15-2019_.csv', 'C:\\\\Users\\\\samgt\\\\Documents\\\\GitHub\\\\Plotly-Dash\\\\CSV\\\\3Raw\\\\From_SDcard\\\\protoCBAS-G\\\\cbas_12-16-2019_.csv', 'C:\\\\Users\\\\samgt\\\\Documents\\\\GitHub\\\\Plotly-Dash\\\\CSV\\\\3Raw\\\\From_SDcard\\\\protoCBAS-G\\\\cbas_12-17-2019_.csv', 'C:\\\\Users\\\\samgt\\\\Documents\\\\GitHub\\\\Plotly-Dash\\\\CSV\\\\3Raw\\\\From_SDcard\\\\protoCBAS-G\\\\cbas_12-18-2019_.csv', 'C:\\\\Users\\\\samgt\\\\Documents\\\\GitHub\\\\Plotly-Dash\\\\CSV\\\\3Raw\\\\From_SDcard\\\\protoCBAS-G\\\\cbas_12-19-2019_.csv', 'C:\\\\Users\\\\samgt\\\\Documents\\\\GitHub\\\\Plotly-Dash\\\\CSV\\\\3Raw\\\\From_SDcard\\\\protoCBAS-G\\\\cbas_12-20-2019_.csv', 'C:\\\\Users\\\\samgt\\\\Documents\\\\GitHub\\\\Plotly-Dash\\\\CSV\\\\3Raw\\\\From_SDcard\\\\protoCBAS-G\\\\cbas_12-21-2019_.csv', 'C:\\\\Users\\\\samgt\\\\Documents\\\\GitHub\\\\Plotly-Dash\\\\CSV\\\\3Raw\\\\From_SDcard\\\\protoCBAS-G\\\\cbas_12-22-2019_.csv', 'C:\\\\Users\\\\samgt\\\\Documents\\\\GitHub\\\\Plotly-Dash\\\\CSV\\\\3Raw\\\\From_SDcard\\\\protoCBAS-G\\\\cbas_12-23-2019_.csv', 'C:\\\\Users\\\\samgt\\\\Documents\\\\GitHub\\\\Plotly-Dash\\\\CSV\\\\3Raw\\\\From_SDcard\\\\protoCBAS-G\\\\cbas_12-24-2019_.csv', 'C:\\\\Users\\\\samgt\\\\Documents\\\\GitHub\\\\Plotly-Dash\\\\CSV\\\\3Raw\\\\From_SDcard\\\\protoCBAS-G\\\\cbas_12-25-2019_.csv', 'C:\\\\Users\\\\samgt\\\\Documents\\\\GitHub\\\\Plotly-Dash\\\\CSV\\\\3Raw\\\\From_SDcard\\\\protoCBAS-G\\\\cbas_12-26-2019_.csv', 'C:\\\\Users\\\\samgt\\\\Documents\\\\GitHub\\\\Plotly-Dash\\\\CSV\\\\3Raw\\\\From_SDcard\\\\protoCBAS-G\\\\cbas_12-27-2019_.csv', 'C:\\\\Users\\\\samgt\\\\Documents\\\\GitHub\\\\Plotly-Dash\\\\CSV\\\\3Raw\\\\From_SDcard\\\\protoCBAS-G\\\\cbas_12-28-2019_.csv', 'C:\\\\Users\\\\samgt\\\\Documents\\\\GitHub\\\\Plotly-Dash\\\\CSV\\\\3Raw\\\\From_SDcard\\\\protoCBAS-G\\\\cbas_12-29-2019_.csv', 'C:\\\\Users\\\\samgt\\\\Documents\\\\GitHub\\\\Plotly-Dash\\\\CSV\\\\3Raw\\\\From_SDcard\\\\protoCBAS-G\\\\cbas_12-30-2019_.csv', 'C:\\\\Users\\\\samgt\\\\Documents\\\\GitHub\\\\Plotly-Dash\\\\CSV\\\\3Raw\\\\From_SDcard\\\\protoCBAS-G\\\\cbas_12-31-2019_.csv']\n"
     ]
    },
    {
     "name": "stdout",
     "output_type": "stream",
     "text": [
      "Done\n"
     ]
    }
   ],
   "source": [
    "%run C:/Users/samgt/Documents/GitHub/Plotly-Dash/stable_scripts/From_SD_to_CSV/1_SD_pandas_parse_.py protoCBAS-G"
   ]
  },
  {
   "cell_type": "code",
   "execution_count": null,
   "metadata": {},
   "outputs": [],
   "source": []
  }
 ],
 "metadata": {
  "kernelspec": {
   "display_name": "Python 3",
   "language": "python",
   "name": "python3"
  },
  "language_info": {
   "codemirror_mode": {
    "name": "ipython",
    "version": 3
   },
   "file_extension": ".py",
   "mimetype": "text/x-python",
   "name": "python",
   "nbconvert_exporter": "python",
   "pygments_lexer": "ipython3",
   "version": "3.7.4"
  },
  "toc": {
   "base_numbering": 1,
   "nav_menu": {},
   "number_sections": true,
   "sideBar": true,
   "skip_h1_title": false,
   "title_cell": "Table of Contents",
   "title_sidebar": "Contents",
   "toc_cell": false,
   "toc_position": {
    "height": "calc(100% - 180px)",
    "left": "10px",
    "top": "150px",
    "width": "172.8px"
   },
   "toc_section_display": true,
   "toc_window_display": false
  },
  "varInspector": {
   "cols": {
    "lenName": 16,
    "lenType": 16,
    "lenVar": 40
   },
   "kernels_config": {
    "python": {
     "delete_cmd_postfix": "",
     "delete_cmd_prefix": "del ",
     "library": "var_list.py",
     "varRefreshCmd": "print(var_dic_list())"
    },
    "r": {
     "delete_cmd_postfix": ") ",
     "delete_cmd_prefix": "rm(",
     "library": "var_list.r",
     "varRefreshCmd": "cat(var_dic_list()) "
    }
   },
   "types_to_exclude": [
    "module",
    "function",
    "builtin_function_or_method",
    "instance",
    "_Feature"
   ],
   "window_display": false
  }
 },
 "nbformat": 4,
 "nbformat_minor": 2
}
